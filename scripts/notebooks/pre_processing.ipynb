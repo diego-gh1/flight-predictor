{
 "cells": [
  {
   "cell_type": "code",
   "execution_count": 1,
   "metadata": {},
   "outputs": [],
   "source": [
    "import numpy as np\n",
    "import pandas as pd"
   ]
  },
  {
   "cell_type": "code",
   "execution_count": 2,
   "metadata": {},
   "outputs": [],
   "source": [
    "combined_df = pd.read_csv('../../raw_data/pre_processed_df.csv')"
   ]
  },
  {
   "cell_type": "code",
   "execution_count": 3,
   "metadata": {},
   "outputs": [
    {
     "data": {
      "text/html": [
       "<div>\n",
       "<style scoped>\n",
       "    .dataframe tbody tr th:only-of-type {\n",
       "        vertical-align: middle;\n",
       "    }\n",
       "\n",
       "    .dataframe tbody tr th {\n",
       "        vertical-align: top;\n",
       "    }\n",
       "\n",
       "    .dataframe thead th {\n",
       "        text-align: right;\n",
       "    }\n",
       "</style>\n",
       "<table border=\"1\" class=\"dataframe\">\n",
       "  <thead>\n",
       "    <tr style=\"text-align: right;\">\n",
       "      <th></th>\n",
       "      <th>MONTH</th>\n",
       "      <th>DAY</th>\n",
       "      <th>DAY_OF_WEEK</th>\n",
       "      <th>AIRLINE</th>\n",
       "      <th>ORIGIN_AIRPORT</th>\n",
       "      <th>DESTINATION_AIRPORT</th>\n",
       "      <th>SCHEDULED_TIME</th>\n",
       "      <th>DISTANCE</th>\n",
       "      <th>SCHEDULED_ARRIVAL</th>\n",
       "      <th>CANCELLED</th>\n",
       "    </tr>\n",
       "  </thead>\n",
       "  <tbody>\n",
       "    <tr>\n",
       "      <th>0</th>\n",
       "      <td>11</td>\n",
       "      <td>23</td>\n",
       "      <td>1</td>\n",
       "      <td>OO</td>\n",
       "      <td>FAT</td>\n",
       "      <td>SEA</td>\n",
       "      <td>135.0</td>\n",
       "      <td>748</td>\n",
       "      <td>815</td>\n",
       "      <td>0</td>\n",
       "    </tr>\n",
       "    <tr>\n",
       "      <th>1</th>\n",
       "      <td>6</td>\n",
       "      <td>4</td>\n",
       "      <td>4</td>\n",
       "      <td>WN</td>\n",
       "      <td>MKE</td>\n",
       "      <td>BWI</td>\n",
       "      <td>115.0</td>\n",
       "      <td>641</td>\n",
       "      <td>1250</td>\n",
       "      <td>0</td>\n",
       "    </tr>\n",
       "    <tr>\n",
       "      <th>2</th>\n",
       "      <td>5</td>\n",
       "      <td>18</td>\n",
       "      <td>1</td>\n",
       "      <td>OO</td>\n",
       "      <td>RKS</td>\n",
       "      <td>DEN</td>\n",
       "      <td>80.0</td>\n",
       "      <td>260</td>\n",
       "      <td>650</td>\n",
       "      <td>0</td>\n",
       "    </tr>\n",
       "    <tr>\n",
       "      <th>3</th>\n",
       "      <td>6</td>\n",
       "      <td>9</td>\n",
       "      <td>2</td>\n",
       "      <td>AS</td>\n",
       "      <td>SEA</td>\n",
       "      <td>ANC</td>\n",
       "      <td>206.0</td>\n",
       "      <td>1448</td>\n",
       "      <td>51</td>\n",
       "      <td>0</td>\n",
       "    </tr>\n",
       "    <tr>\n",
       "      <th>4</th>\n",
       "      <td>9</td>\n",
       "      <td>29</td>\n",
       "      <td>2</td>\n",
       "      <td>DL</td>\n",
       "      <td>MOB</td>\n",
       "      <td>ATL</td>\n",
       "      <td>81.0</td>\n",
       "      <td>302</td>\n",
       "      <td>946</td>\n",
       "      <td>0</td>\n",
       "    </tr>\n",
       "  </tbody>\n",
       "</table>\n",
       "</div>"
      ],
      "text/plain": [
       "   MONTH  DAY  DAY_OF_WEEK AIRLINE ORIGIN_AIRPORT DESTINATION_AIRPORT  \\\n",
       "0     11   23            1      OO            FAT                 SEA   \n",
       "1      6    4            4      WN            MKE                 BWI   \n",
       "2      5   18            1      OO            RKS                 DEN   \n",
       "3      6    9            2      AS            SEA                 ANC   \n",
       "4      9   29            2      DL            MOB                 ATL   \n",
       "\n",
       "   SCHEDULED_TIME  DISTANCE  SCHEDULED_ARRIVAL  CANCELLED  \n",
       "0           135.0       748                815          0  \n",
       "1           115.0       641               1250          0  \n",
       "2            80.0       260                650          0  \n",
       "3           206.0      1448                 51          0  \n",
       "4            81.0       302                946          0  "
      ]
     },
     "execution_count": 3,
     "metadata": {},
     "output_type": "execute_result"
    }
   ],
   "source": [
    "combined_df.head()"
   ]
  },
  {
   "cell_type": "code",
   "execution_count": 4,
   "metadata": {},
   "outputs": [
    {
     "data": {
      "text/plain": [
       "ORIGIN_AIRPORT\n",
       "ATL      51281\n",
       "ORD      47441\n",
       "DFW      39161\n",
       "LAX      29443\n",
       "DEN      29297\n",
       "         ...  \n",
       "13541        2\n",
       "15497        1\n",
       "14025        1\n",
       "13502        1\n",
       "14222        1\n",
       "Name: count, Length: 627, dtype: int64"
      ]
     },
     "execution_count": 4,
     "metadata": {},
     "output_type": "execute_result"
    }
   ],
   "source": [
    "counts=combined_df['ORIGIN_AIRPORT'].value_counts()\n",
    "counts"
   ]
  },
  {
   "cell_type": "code",
   "execution_count": 5,
   "metadata": {},
   "outputs": [
    {
     "data": {
      "text/plain": [
       "0         3\n",
       "1         3\n",
       "2         3\n",
       "3         3\n",
       "4         3\n",
       "         ..\n",
       "898835    3\n",
       "898836    3\n",
       "898837    3\n",
       "898838    3\n",
       "898839    3\n",
       "Name: ORIGIN_AIRPORT, Length: 898840, dtype: int64"
      ]
     },
     "execution_count": 5,
     "metadata": {},
     "output_type": "execute_result"
    }
   ],
   "source": [
    "combined_df.ORIGIN_AIRPORT.str.len()"
   ]
  },
  {
   "cell_type": "code",
   "execution_count": 6,
   "metadata": {},
   "outputs": [],
   "source": [
    "new_dataframe2 = combined_df.loc[combined_df['ORIGIN_AIRPORT'].str.len()<4,:]"
   ]
  },
  {
   "cell_type": "code",
   "execution_count": 7,
   "metadata": {},
   "outputs": [
    {
     "data": {
      "text/plain": [
       "CANCELLED\n",
       "0    740611\n",
       "1     87430\n",
       "Name: count, dtype: int64"
      ]
     },
     "execution_count": 7,
     "metadata": {},
     "output_type": "execute_result"
    }
   ],
   "source": [
    "new_dataframe2.CANCELLED.value_counts()"
   ]
  },
  {
   "cell_type": "code",
   "execution_count": 8,
   "metadata": {},
   "outputs": [
    {
     "data": {
      "text/plain": [
       "ORIGIN_AIRPORT\n",
       "ATL    51281\n",
       "ORD    47441\n",
       "DFW    39161\n",
       "LAX    29443\n",
       "DEN    29297\n",
       "       ...  \n",
       "GST       13\n",
       "HYA       12\n",
       "ITH       11\n",
       "AKN        7\n",
       "DLG        6\n",
       "Name: count, Length: 322, dtype: int64"
      ]
     },
     "execution_count": 8,
     "metadata": {},
     "output_type": "execute_result"
    }
   ],
   "source": [
    "new_dataframe2.ORIGIN_AIRPORT.value_counts()"
   ]
  },
  {
   "cell_type": "code",
   "execution_count": 12,
   "metadata": {},
   "outputs": [],
   "source": [
    "\n",
    "new_dataframe3 = new_dataframe2.loc[new_dataframe2['ORIGIN_AIRPORT']\n",
    "                                 .isin(counts[counts>1000].index)|new_dataframe2.CANCELLED==1,:]\n"
   ]
  },
  {
   "cell_type": "code",
   "execution_count": 13,
   "metadata": {},
   "outputs": [
    {
     "data": {
      "text/plain": [
       "ORIGIN_AIRPORT\n",
       "ATL    51281\n",
       "ORD    47441\n",
       "DFW    39161\n",
       "LAX    29443\n",
       "DEN    29297\n",
       "       ...  \n",
       "PBG        2\n",
       "CNY        1\n",
       "CDC        1\n",
       "HYA        1\n",
       "GST        1\n",
       "Name: count, Length: 316, dtype: int64"
      ]
     },
     "execution_count": 13,
     "metadata": {},
     "output_type": "execute_result"
    }
   ],
   "source": [
    "new_dataframe3.ORIGIN_AIRPORT.value_counts()"
   ]
  },
  {
   "cell_type": "code",
   "execution_count": 14,
   "metadata": {},
   "outputs": [
    {
     "data": {
      "text/plain": [
       "CANCELLED\n",
       "0    683616\n",
       "1     87430\n",
       "Name: count, dtype: int64"
      ]
     },
     "execution_count": 14,
     "metadata": {},
     "output_type": "execute_result"
    }
   ],
   "source": [
    "new_dataframe3.CANCELLED.value_counts()"
   ]
  },
  {
   "cell_type": "code",
   "execution_count": 15,
   "metadata": {},
   "outputs": [
    {
     "data": {
      "text/plain": [
       "DESTINATION_AIRPORT\n",
       "ATL      51181\n",
       "ORD      48583\n",
       "DFW      39747\n",
       "LAX      29647\n",
       "DEN      29608\n",
       "         ...  \n",
       "10581        2\n",
       "13541        2\n",
       "12265        1\n",
       "14222        1\n",
       "10165        1\n",
       "Name: count, Length: 626, dtype: int64"
      ]
     },
     "execution_count": 15,
     "metadata": {},
     "output_type": "execute_result"
    }
   ],
   "source": [
    "counts_dest=combined_df['DESTINATION_AIRPORT'].value_counts()\n",
    "counts_dest"
   ]
  },
  {
   "cell_type": "code",
   "execution_count": 16,
   "metadata": {},
   "outputs": [],
   "source": [
    "new_dataframe4 = new_dataframe3.loc[new_dataframe3['DESTINATION_AIRPORT']\n",
    "                                 .isin(counts_dest[counts_dest>1000].index)|new_dataframe3.CANCELLED==1,:]\n"
   ]
  },
  {
   "cell_type": "code",
   "execution_count": 17,
   "metadata": {},
   "outputs": [
    {
     "data": {
      "text/plain": [
       "DESTINATION_AIRPORT\n",
       "ORD    40586\n",
       "ATL    40439\n",
       "DFW    31991\n",
       "LAX    28545\n",
       "DEN    25701\n",
       "       ...  \n",
       "GST        1\n",
       "BJI        1\n",
       "CDC        1\n",
       "CNY        1\n",
       "PBG        1\n",
       "Name: count, Length: 316, dtype: int64"
      ]
     },
     "execution_count": 17,
     "metadata": {},
     "output_type": "execute_result"
    }
   ],
   "source": [
    "new_dataframe4.DESTINATION_AIRPORT.value_counts()"
   ]
  },
  {
   "cell_type": "code",
   "execution_count": 18,
   "metadata": {},
   "outputs": [
    {
     "data": {
      "text/plain": [
       "CANCELLED\n",
       "0    627421\n",
       "1     87430\n",
       "Name: count, dtype: int64"
      ]
     },
     "execution_count": 18,
     "metadata": {},
     "output_type": "execute_result"
    }
   ],
   "source": [
    "new_dataframe4.CANCELLED.value_counts()"
   ]
  },
  {
   "cell_type": "code",
   "execution_count": 19,
   "metadata": {},
   "outputs": [],
   "source": [
    "# EL DATAFRAME ACTUAL TIENE 316 AEROPUERTOS DE ORIGEN Y DE LLEGADA\n",
    "#TIENE 627.421 VUELOS NO CANCELADOS\n",
    "#TIENE 87430 VUELOS SI CANCELADOS\n",
    "\n",
    "new_dataframe4.to_csv('../../raw_data/miercoles_316airports.csv', index=False)"
   ]
  },
  {
   "cell_type": "code",
   "execution_count": null,
   "metadata": {},
   "outputs": [],
   "source": []
  },
  {
   "cell_type": "code",
   "execution_count": null,
   "metadata": {},
   "outputs": [],
   "source": []
  },
  {
   "cell_type": "code",
   "execution_count": null,
   "metadata": {},
   "outputs": [],
   "source": []
  }
 ],
 "metadata": {
  "kernelspec": {
   "display_name": "flight-predictor",
   "language": "python",
   "name": "python3"
  },
  "language_info": {
   "codemirror_mode": {
    "name": "ipython",
    "version": 3
   },
   "file_extension": ".py",
   "mimetype": "text/x-python",
   "name": "python",
   "nbconvert_exporter": "python",
   "pygments_lexer": "ipython3",
   "version": "3.10.6"
  },
  "orig_nbformat": 4
 },
 "nbformat": 4,
 "nbformat_minor": 2
}
