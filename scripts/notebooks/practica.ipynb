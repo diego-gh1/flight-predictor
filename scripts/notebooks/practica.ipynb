{
 "cells": [
  {
   "cell_type": "code",
   "execution_count": 2,
   "metadata": {},
   "outputs": [],
   "source": [
    "import pandas as pd"
   ]
  },
  {
   "cell_type": "code",
   "execution_count": 3,
   "metadata": {},
   "outputs": [],
   "source": [
    "cancelled_df = pd.read_csv('../../raw_data/ony_cancelled_df.csv')"
   ]
  },
  {
   "cell_type": "code",
   "execution_count": 6,
   "metadata": {},
   "outputs": [
    {
     "data": {
      "text/html": [
       "<div>\n",
       "<style scoped>\n",
       "    .dataframe tbody tr th:only-of-type {\n",
       "        vertical-align: middle;\n",
       "    }\n",
       "\n",
       "    .dataframe tbody tr th {\n",
       "        vertical-align: top;\n",
       "    }\n",
       "\n",
       "    .dataframe thead th {\n",
       "        text-align: right;\n",
       "    }\n",
       "</style>\n",
       "<table border=\"1\" class=\"dataframe\">\n",
       "  <thead>\n",
       "    <tr style=\"text-align: right;\">\n",
       "      <th></th>\n",
       "      <th>MONTH</th>\n",
       "      <th>DAY</th>\n",
       "      <th>DAY_OF_WEEK</th>\n",
       "      <th>AIRLINE</th>\n",
       "      <th>ORIGIN_AIRPORT</th>\n",
       "      <th>DESTINATION_AIRPORT</th>\n",
       "      <th>SCHEDULED_TIME</th>\n",
       "      <th>DISTANCE</th>\n",
       "      <th>SCHEDULED_ARRIVAL</th>\n",
       "      <th>CANCELLED</th>\n",
       "    </tr>\n",
       "  </thead>\n",
       "  <tbody>\n",
       "    <tr>\n",
       "      <th>0</th>\n",
       "      <td>1</td>\n",
       "      <td>1</td>\n",
       "      <td>4</td>\n",
       "      <td>AS</td>\n",
       "      <td>ANC</td>\n",
       "      <td>SEA</td>\n",
       "      <td>205.0</td>\n",
       "      <td>1448</td>\n",
       "      <td>600</td>\n",
       "      <td>1</td>\n",
       "    </tr>\n",
       "    <tr>\n",
       "      <th>1</th>\n",
       "      <td>1</td>\n",
       "      <td>1</td>\n",
       "      <td>4</td>\n",
       "      <td>AA</td>\n",
       "      <td>PHX</td>\n",
       "      <td>DFW</td>\n",
       "      <td>120.0</td>\n",
       "      <td>868</td>\n",
       "      <td>500</td>\n",
       "      <td>1</td>\n",
       "    </tr>\n",
       "    <tr>\n",
       "      <th>2</th>\n",
       "      <td>1</td>\n",
       "      <td>1</td>\n",
       "      <td>4</td>\n",
       "      <td>OO</td>\n",
       "      <td>MAF</td>\n",
       "      <td>IAH</td>\n",
       "      <td>87.0</td>\n",
       "      <td>429</td>\n",
       "      <td>637</td>\n",
       "      <td>1</td>\n",
       "    </tr>\n",
       "    <tr>\n",
       "      <th>3</th>\n",
       "      <td>1</td>\n",
       "      <td>1</td>\n",
       "      <td>4</td>\n",
       "      <td>MQ</td>\n",
       "      <td>SGF</td>\n",
       "      <td>DFW</td>\n",
       "      <td>95.0</td>\n",
       "      <td>364</td>\n",
       "      <td>700</td>\n",
       "      <td>1</td>\n",
       "    </tr>\n",
       "    <tr>\n",
       "      <th>4</th>\n",
       "      <td>1</td>\n",
       "      <td>1</td>\n",
       "      <td>4</td>\n",
       "      <td>OO</td>\n",
       "      <td>RDD</td>\n",
       "      <td>SFO</td>\n",
       "      <td>90.0</td>\n",
       "      <td>199</td>\n",
       "      <td>700</td>\n",
       "      <td>1</td>\n",
       "    </tr>\n",
       "  </tbody>\n",
       "</table>\n",
       "</div>"
      ],
      "text/plain": [
       "   MONTH  DAY  DAY_OF_WEEK AIRLINE ORIGIN_AIRPORT DESTINATION_AIRPORT  \\\n",
       "0      1    1            4      AS            ANC                 SEA   \n",
       "1      1    1            4      AA            PHX                 DFW   \n",
       "2      1    1            4      OO            MAF                 IAH   \n",
       "3      1    1            4      MQ            SGF                 DFW   \n",
       "4      1    1            4      OO            RDD                 SFO   \n",
       "\n",
       "   SCHEDULED_TIME  DISTANCE  SCHEDULED_ARRIVAL  CANCELLED  \n",
       "0           205.0      1448                600          1  \n",
       "1           120.0       868                500          1  \n",
       "2            87.0       429                637          1  \n",
       "3            95.0       364                700          1  \n",
       "4            90.0       199                700          1  "
      ]
     },
     "execution_count": 6,
     "metadata": {},
     "output_type": "execute_result"
    }
   ],
   "source": [
    "cancelled_df.head()"
   ]
  },
  {
   "cell_type": "code",
   "execution_count": 4,
   "metadata": {},
   "outputs": [
    {
     "data": {
      "text/plain": [
       "array(['ANC', 'PHX', 'MAF', 'SGF', 'RDD', 'CHS', 'SMX', 'ABI', 'XNA',\n",
       "       'DCA', 'LGA', 'MCO', 'SFO', 'ONT', 'MSO', 'ORD', 'AMA', 'CLL',\n",
       "       'HOU', 'DFW', 'JLN', 'CID', 'MLI', 'GSP', 'MHK', 'MOB', 'TLH',\n",
       "       'CVG', 'CAE', 'TXK', 'CMX', 'SMF', 'LRD', 'MFE', 'FSM', 'AEX',\n",
       "       'SPS', 'ACT', 'SJT', 'JAN', 'BNA', 'DTW', 'FAR', 'MSN', 'SJC',\n",
       "       'SAV', 'GRI', 'LAX', 'ATL', 'LEX', 'VPS', 'GPT', 'MGM', 'MSY',\n",
       "       'SPI', 'IAH', 'PIA', 'ROW', 'FWA', 'FLL', 'HOB', 'COU', 'SAF',\n",
       "       'GRR', 'LFT', 'TUL', 'ELP', 'DVL', 'TUS', 'GRK', 'PNS', 'GJT',\n",
       "       'BMI', 'RKS', 'MIA', 'DAL', 'LCH', 'GCK', 'GSO', 'AUS', 'BTR',\n",
       "       'ICT', 'FLG', 'STL', 'SAT', 'JMS', 'MSP', 'ROC', 'TPA', 'OMA',\n",
       "       'SHV', 'TOL', 'CRP', 'OKC', 'LAW', 'DSM', 'LBB', 'LIT', 'SAN',\n",
       "       'DEN', 'MEM', 'APN', 'CMH', 'HSV', 'SLC', 'MKE', 'BHM', 'TYR',\n",
       "       'MLU', 'GUC', 'ABQ', 'DRO', 'CHA', 'BRO', 'HRL', 'PHL', 'EGE',\n",
       "       'BWI', 'CLT', 'SDF', 'FCA', 'DIK', 'PUB', 'ASE', 'JFK', 'ISN',\n",
       "       'BOI', 'CPR', 'PDX', 'SNA', 'GGG', 'PSC', 'OGG', 'BOS', 'HNL',\n",
       "       'OAK', 'BUR', 'TYS', 'LAS', 'PSP', 'IND', 'RAP', 'MDW', 'SEA',\n",
       "       'GCC', 'HYS', 'JAC', 'EUG', 'COD', 'GEG', 'MOT', 'MCI', 'HLN',\n",
       "       'BTM', 'FSD', 'PLN', 'RDM', 'HPN', 'CLE', 'AZO', 'IAD', 'COS',\n",
       "       'MTJ', 'PIT', 'TTN', 'MFR', 'ROA', 'RIC', 'DBQ', 'TVC', 'GTF',\n",
       "       'BIL', 'FNT', 'CMI', 'SBP', 'RSW', 'GNV', 'GRB', 'SYR', 'RDU',\n",
       "       'LGB', 'YAK', 'SJU', 'SWF', 'EWR', 'BUF', 'JNU', 'BIS', 'BQN',\n",
       "       'BJI', 'ESC', 'MRY', 'SBN', 'BZN', 'CWA', 'LNK', 'SUX', 'EWN',\n",
       "       'BQK', 'LSE', 'ALO', 'RHI', 'RST', 'ORH', 'JAX', 'BDL', 'ORF',\n",
       "       'FAT', 'DAY', 'CRW', 'CHO', 'LAN', 'MKG', 'MBS', 'MHT', 'EVV',\n",
       "       'MDT', 'ACV', 'SBA', 'PVD', 'BPT', 'HIB', 'ABR', 'MYR', 'BRD',\n",
       "       'DLH', 'SCE', 'STC', 'IMT', 'KOA', 'ERI', 'ELM', 'WRG', 'BET',\n",
       "       'IDA', 'OAJ', 'TWF', 'EAU', 'ATW', 'AVP', 'CAK', 'IAG', 'BTV',\n",
       "       'PAH', 'RNO', 'PIH', 'KTN', 'CLD', 'ABE', 'MEI', 'SUN', 'FAI',\n",
       "       'PBI', 'BFL', 'ABY', 'ADQ', 'VLD', 'TRI', 'ECP', 'LIH', 'EYW',\n",
       "       'AVL', 'PWM', 'VEL', 'CEC', 'OTH', 'MMH', 'PBG', 'MQT', 'PHF',\n",
       "       'OME', 'FAY', 'ISP', 'SRQ', 'HDN', 'PSE', 'SCC', 'STT', 'ALB',\n",
       "       'ACY', 'PSG', 'ITO', 'OTZ', 'YUM', 'BLI', 'ILG', 'BGM', 'CIU',\n",
       "       'UST', 'SIT', 'LBE', 'BGR', 'ITH', 'LAR', 'PIB', 'CDV', 'DHN',\n",
       "       'GTR', 'CDC', 'DAB', 'MLB', 'AGS', 'ILM', 'BRW', 'CSG', 'CNY',\n",
       "       'ADK', 'STX', 'GUM', 'INL', 'EKO', 'SGU', 'GFK', 'HYA', 'ACK',\n",
       "       'GST', '13198', '10821', '11695', '11618', '14771', '13204',\n",
       "       '13796', '12892', '14893', '10800', '14107', '14908', '11057',\n",
       "       '12197', '12953', '12173', '10299', '10721', '11278', '14321',\n",
       "       '13970', '10792', '13495', '13873', '13830', '11433', '11292',\n",
       "       '10693', '13487', '14698', '10599', '13871', '11612', '11109',\n",
       "       '14027', '14570', '12266', '11042', '11697', '14524', '13296',\n",
       "       '15041', '13244', '12323', '10257', '11193', '12339', '13342',\n",
       "       '10994', '15016', '10431', '10868', '11995', '14307', '14685',\n",
       "       '10785', '14100', '13422', '12451', '14457', '12992', '11267',\n",
       "       '11986', '11996', '13930', '14747', '14869', '10747', '12278',\n",
       "       '12884', '10849', '13303', '13851', '10779', '13256', '11884',\n",
       "       '10713', '12478', '14679', '10397', '14006', '10423', '12191',\n",
       "       '11977', '11298', '15070', '14843', '11638', '14492', '13577',\n",
       "       '14057', '12389', '12888', '11259', '13158', '14635', '10529',\n",
       "       '12982', '14831', '13264', '12889', '15304', '10170', '13476',\n",
       "       '13933', '11540', '11603', '11775', '15376', '11076', '11973',\n",
       "       '13891', '11423', '13232', '11587', '10140', '11066', '12819',\n",
       "       '12264', '11721', '15412', '15841', '13964', '13184', '11637',\n",
       "       '12523', '14709', '11337', '10754', '11630', '14108', '10620',\n",
       "       '14905', '14952', '10408', '12129', '12343', '10157', '14689',\n",
       "       '15401', '10781', '14783', '11140', '12206', '13377', '12915',\n",
       "       '14193', '11122', '12016', '12898', '10627', '14683', '14814',\n",
       "       '14254', '14576', '13433', '15370', '10333', '14674', '14588',\n",
       "       '10990', '15096', '10372', '10136', '12448', '14842', '10155',\n",
       "       '10185', '11982', '15919', '11778', '15411', '12891', '12896',\n",
       "       '13061', '10279', '11049', '14960', '11413', '12951', '10728',\n",
       "       '13076', '15624', '11980', '13277', '13367', '11905', '10980',\n",
       "       '14109', '15249', '11921', '11867', '13290', '14122', '11003',\n",
       "       '13241', '14520', '12335', '14256', '12945', '10141', '10469',\n",
       "       '10874', '13931', '14730', '10158', '12954', '11097', '14986'],\n",
       "      dtype=object)"
      ]
     },
     "execution_count": 4,
     "metadata": {},
     "output_type": "execute_result"
    }
   ],
   "source": [
    "cancelled_df.ORIGIN_AIRPORT.unique()"
   ]
  },
  {
   "cell_type": "code",
   "execution_count": 5,
   "metadata": {},
   "outputs": [
    {
     "data": {
      "text/plain": [
       "ORIGIN_AIRPORT\n",
       "ORD      8548\n",
       "DFW      6254\n",
       "LGA      4531\n",
       "EWR      3110\n",
       "BOS      2654\n",
       "         ... \n",
       "CNY         1\n",
       "12982       1\n",
       "13076       1\n",
       "12888       1\n",
       "14986       1\n",
       "Name: count, Length: 525, dtype: int64"
      ]
     },
     "execution_count": 5,
     "metadata": {},
     "output_type": "execute_result"
    }
   ],
   "source": [
    "cancelled_df.ORIGIN_AIRPORT.value_counts()"
   ]
  },
  {
   "cell_type": "code",
   "execution_count": null,
   "metadata": {},
   "outputs": [],
   "source": []
  }
 ],
 "metadata": {
  "kernelspec": {
   "display_name": "flight-predictor",
   "language": "python",
   "name": "python3"
  },
  "language_info": {
   "codemirror_mode": {
    "name": "ipython",
    "version": 3
   },
   "file_extension": ".py",
   "mimetype": "text/x-python",
   "name": "python",
   "nbconvert_exporter": "python",
   "pygments_lexer": "ipython3",
   "version": "3.10.6"
  },
  "orig_nbformat": 4
 },
 "nbformat": 4,
 "nbformat_minor": 2
}
