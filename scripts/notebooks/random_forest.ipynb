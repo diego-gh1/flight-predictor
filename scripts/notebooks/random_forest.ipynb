{
 "cells": [
  {
   "cell_type": "code",
   "execution_count": 17,
   "metadata": {},
   "outputs": [],
   "source": [
    "import pandas as pd\n",
    "import datetime\n",
    "import numpy as np\n",
    "import seaborn as sns\n",
    "import matplotlib.pyplot as plt\n",
    "from sklearn.preprocessing import OneHotEncoder\n",
    "from sklearn.model_selection import train_test_split\n",
    "from sklearn.model_selection import cross_validate\n",
    "\n",
    "\n",
    "from sklearn.preprocessing import StandardScaler\n",
    "import random\n",
    "from sklearn.metrics import precision_score, recall_score\n",
    "from sklearn.ensemble import RandomForestClassifier\n",
    "from sklearn.metrics import classification_report"
   ]
  },
  {
   "cell_type": "code",
   "execution_count": 2,
   "metadata": {},
   "outputs": [],
   "source": [
    "cancelation_df = pd.read_csv('../../raw_data/latlong_ohe.csv')"
   ]
  },
  {
   "cell_type": "code",
   "execution_count": 3,
   "metadata": {},
   "outputs": [
    {
     "data": {
      "text/plain": [
       "(714851, 25)"
      ]
     },
     "execution_count": 3,
     "metadata": {},
     "output_type": "execute_result"
    }
   ],
   "source": [
    "cancelation_df.shape"
   ]
  },
  {
   "cell_type": "code",
   "execution_count": 4,
   "metadata": {},
   "outputs": [],
   "source": [
    "cancelation_df = cancelation_df.sample(50000)"
   ]
  },
  {
   "cell_type": "code",
   "execution_count": 5,
   "metadata": {},
   "outputs": [
    {
     "data": {
      "text/html": [
       "<div>\n",
       "<style scoped>\n",
       "    .dataframe tbody tr th:only-of-type {\n",
       "        vertical-align: middle;\n",
       "    }\n",
       "\n",
       "    .dataframe tbody tr th {\n",
       "        vertical-align: top;\n",
       "    }\n",
       "\n",
       "    .dataframe thead th {\n",
       "        text-align: right;\n",
       "    }\n",
       "</style>\n",
       "<table border=\"1\" class=\"dataframe\">\n",
       "  <thead>\n",
       "    <tr style=\"text-align: right;\">\n",
       "      <th></th>\n",
       "      <th>MONTH</th>\n",
       "      <th>DAY</th>\n",
       "      <th>DAY_OF_WEEK</th>\n",
       "      <th>SCHEDULED_TIME</th>\n",
       "      <th>DISTANCE</th>\n",
       "      <th>SCHEDULED_ARRIVAL</th>\n",
       "      <th>CANCELLED</th>\n",
       "      <th>ORIGIN_LONGITUDE</th>\n",
       "      <th>ORIGIN_LATITUDE</th>\n",
       "      <th>DESTINATION_LONGITUDE</th>\n",
       "      <th>...</th>\n",
       "      <th>AIRLINE_EV</th>\n",
       "      <th>AIRLINE_F9</th>\n",
       "      <th>AIRLINE_HA</th>\n",
       "      <th>AIRLINE_MQ</th>\n",
       "      <th>AIRLINE_NK</th>\n",
       "      <th>AIRLINE_OO</th>\n",
       "      <th>AIRLINE_UA</th>\n",
       "      <th>AIRLINE_US</th>\n",
       "      <th>AIRLINE_VX</th>\n",
       "      <th>AIRLINE_WN</th>\n",
       "    </tr>\n",
       "  </thead>\n",
       "  <tbody>\n",
       "    <tr>\n",
       "      <th>545626</th>\n",
       "      <td>5</td>\n",
       "      <td>25</td>\n",
       "      <td>1</td>\n",
       "      <td>171.0</td>\n",
       "      <td>1069</td>\n",
       "      <td>956</td>\n",
       "      <td>0</td>\n",
       "      <td>-80.15275</td>\n",
       "      <td>26.07258</td>\n",
       "      <td>-73.77893</td>\n",
       "      <td>...</td>\n",
       "      <td>0.0</td>\n",
       "      <td>0.0</td>\n",
       "      <td>0.0</td>\n",
       "      <td>0.0</td>\n",
       "      <td>0.0</td>\n",
       "      <td>0.0</td>\n",
       "      <td>0.0</td>\n",
       "      <td>0.0</td>\n",
       "      <td>0.0</td>\n",
       "      <td>0.0</td>\n",
       "    </tr>\n",
       "    <tr>\n",
       "      <th>623697</th>\n",
       "      <td>11</td>\n",
       "      <td>3</td>\n",
       "      <td>2</td>\n",
       "      <td>110.0</td>\n",
       "      <td>612</td>\n",
       "      <td>1040</td>\n",
       "      <td>0</td>\n",
       "      <td>-82.53325</td>\n",
       "      <td>27.97547</td>\n",
       "      <td>-86.67818</td>\n",
       "      <td>...</td>\n",
       "      <td>0.0</td>\n",
       "      <td>0.0</td>\n",
       "      <td>0.0</td>\n",
       "      <td>0.0</td>\n",
       "      <td>0.0</td>\n",
       "      <td>0.0</td>\n",
       "      <td>0.0</td>\n",
       "      <td>0.0</td>\n",
       "      <td>0.0</td>\n",
       "      <td>1.0</td>\n",
       "    </tr>\n",
       "    <tr>\n",
       "      <th>337885</th>\n",
       "      <td>7</td>\n",
       "      <td>16</td>\n",
       "      <td>4</td>\n",
       "      <td>125.0</td>\n",
       "      <td>795</td>\n",
       "      <td>1020</td>\n",
       "      <td>0</td>\n",
       "      <td>-102.20191</td>\n",
       "      <td>31.94253</td>\n",
       "      <td>-115.15233</td>\n",
       "      <td>...</td>\n",
       "      <td>0.0</td>\n",
       "      <td>0.0</td>\n",
       "      <td>0.0</td>\n",
       "      <td>0.0</td>\n",
       "      <td>0.0</td>\n",
       "      <td>0.0</td>\n",
       "      <td>0.0</td>\n",
       "      <td>0.0</td>\n",
       "      <td>0.0</td>\n",
       "      <td>1.0</td>\n",
       "    </tr>\n",
       "    <tr>\n",
       "      <th>673100</th>\n",
       "      <td>2</td>\n",
       "      <td>2</td>\n",
       "      <td>1</td>\n",
       "      <td>116.0</td>\n",
       "      <td>552</td>\n",
       "      <td>1016</td>\n",
       "      <td>1</td>\n",
       "      <td>-87.90446</td>\n",
       "      <td>41.97960</td>\n",
       "      <td>-92.22425</td>\n",
       "      <td>...</td>\n",
       "      <td>0.0</td>\n",
       "      <td>0.0</td>\n",
       "      <td>0.0</td>\n",
       "      <td>1.0</td>\n",
       "      <td>0.0</td>\n",
       "      <td>0.0</td>\n",
       "      <td>0.0</td>\n",
       "      <td>0.0</td>\n",
       "      <td>0.0</td>\n",
       "      <td>0.0</td>\n",
       "    </tr>\n",
       "    <tr>\n",
       "      <th>692904</th>\n",
       "      <td>2</td>\n",
       "      <td>23</td>\n",
       "      <td>1</td>\n",
       "      <td>83.0</td>\n",
       "      <td>396</td>\n",
       "      <td>1028</td>\n",
       "      <td>1</td>\n",
       "      <td>-97.03720</td>\n",
       "      <td>32.89595</td>\n",
       "      <td>-99.46154</td>\n",
       "      <td>...</td>\n",
       "      <td>0.0</td>\n",
       "      <td>0.0</td>\n",
       "      <td>0.0</td>\n",
       "      <td>1.0</td>\n",
       "      <td>0.0</td>\n",
       "      <td>0.0</td>\n",
       "      <td>0.0</td>\n",
       "      <td>0.0</td>\n",
       "      <td>0.0</td>\n",
       "      <td>0.0</td>\n",
       "    </tr>\n",
       "  </tbody>\n",
       "</table>\n",
       "<p>5 rows × 25 columns</p>\n",
       "</div>"
      ],
      "text/plain": [
       "        MONTH  DAY  DAY_OF_WEEK  SCHEDULED_TIME  DISTANCE  SCHEDULED_ARRIVAL  \\\n",
       "545626      5   25            1           171.0      1069                956   \n",
       "623697     11    3            2           110.0       612               1040   \n",
       "337885      7   16            4           125.0       795               1020   \n",
       "673100      2    2            1           116.0       552               1016   \n",
       "692904      2   23            1            83.0       396               1028   \n",
       "\n",
       "        CANCELLED  ORIGIN_LONGITUDE  ORIGIN_LATITUDE  DESTINATION_LONGITUDE  \\\n",
       "545626          0         -80.15275         26.07258              -73.77893   \n",
       "623697          0         -82.53325         27.97547              -86.67818   \n",
       "337885          0        -102.20191         31.94253             -115.15233   \n",
       "673100          1         -87.90446         41.97960              -92.22425   \n",
       "692904          1         -97.03720         32.89595              -99.46154   \n",
       "\n",
       "        ...  AIRLINE_EV  AIRLINE_F9  AIRLINE_HA  AIRLINE_MQ  AIRLINE_NK  \\\n",
       "545626  ...         0.0         0.0         0.0         0.0         0.0   \n",
       "623697  ...         0.0         0.0         0.0         0.0         0.0   \n",
       "337885  ...         0.0         0.0         0.0         0.0         0.0   \n",
       "673100  ...         0.0         0.0         0.0         1.0         0.0   \n",
       "692904  ...         0.0         0.0         0.0         1.0         0.0   \n",
       "\n",
       "        AIRLINE_OO  AIRLINE_UA  AIRLINE_US  AIRLINE_VX  AIRLINE_WN  \n",
       "545626         0.0         0.0         0.0         0.0         0.0  \n",
       "623697         0.0         0.0         0.0         0.0         1.0  \n",
       "337885         0.0         0.0         0.0         0.0         1.0  \n",
       "673100         0.0         0.0         0.0         0.0         0.0  \n",
       "692904         0.0         0.0         0.0         0.0         0.0  \n",
       "\n",
       "[5 rows x 25 columns]"
      ]
     },
     "execution_count": 5,
     "metadata": {},
     "output_type": "execute_result"
    }
   ],
   "source": [
    "cancelation_df.head()"
   ]
  },
  {
   "cell_type": "code",
   "execution_count": 6,
   "metadata": {},
   "outputs": [],
   "source": [
    "#Borrar NaN\n",
    "cancelation_df = cancelation_df.dropna()"
   ]
  },
  {
   "cell_type": "code",
   "execution_count": 7,
   "metadata": {},
   "outputs": [],
   "source": [
    "X = cancelation_df.drop(columns = ['CANCELLED'])\n",
    "y = cancelation_df['CANCELLED']"
   ]
  },
  {
   "cell_type": "code",
   "execution_count": 8,
   "metadata": {},
   "outputs": [
    {
     "data": {
      "text/plain": [
       "((49997, 24), (49997,))"
      ]
     },
     "execution_count": 8,
     "metadata": {},
     "output_type": "execute_result"
    }
   ],
   "source": [
    "X.shape, y.shape"
   ]
  },
  {
   "cell_type": "code",
   "execution_count": 9,
   "metadata": {},
   "outputs": [
    {
     "data": {
      "text/plain": [
       "CANCELLED\n",
       "0    43800\n",
       "1     6197\n",
       "Name: count, dtype: int64"
      ]
     },
     "execution_count": 9,
     "metadata": {},
     "output_type": "execute_result"
    }
   ],
   "source": [
    "y.value_counts()"
   ]
  },
  {
   "cell_type": "code",
   "execution_count": 10,
   "metadata": {},
   "outputs": [],
   "source": [
    "# STEP 0 - Split the data into train and test sets\n",
    "X_train, X_test, y_train, y_test = train_test_split(X,y, test_size=0.3)"
   ]
  },
  {
   "cell_type": "code",
   "execution_count": 11,
   "metadata": {},
   "outputs": [],
   "source": [
    "#Standard Scaler\n",
    "std_scaler = StandardScaler()\n",
    "X_train_sc = std_scaler.fit_transform(X_train)\n",
    "X_test_sc=std_scaler.transform(X_test)"
   ]
  },
  {
   "cell_type": "code",
   "execution_count": 24,
   "metadata": {},
   "outputs": [],
   "source": [
    "# Instanciate the model with default parameter of n_estimators = 10\n",
    "rfc_10 = RandomForestClassifier(random_state=0)\n",
    "\n",
    "# fit the model\n",
    "rfc_10.fit(X_train_sc, y_train)\n",
    "\n",
    "# Train the model on the scaled Training data\n",
    "cv_results = cross_validate(rfc_10, X_train_sc, y_train, cv=5, scoring=['precision'])"
   ]
  },
  {
   "cell_type": "code",
   "execution_count": 26,
   "metadata": {},
   "outputs": [
    {
     "data": {
      "text/plain": [
       "0.8056133711026071"
      ]
     },
     "execution_count": 26,
     "metadata": {},
     "output_type": "execute_result"
    }
   ],
   "source": [
    "rfc_score = cv_results['test_precision'].mean()\n",
    "rfc_score"
   ]
  },
  {
   "cell_type": "code",
   "execution_count": 27,
   "metadata": {},
   "outputs": [],
   "source": [
    "# Predict the Test set results\n",
    "y_pred = rfc_10.predict(X_test_sc)"
   ]
  },
  {
   "cell_type": "code",
   "execution_count": 32,
   "metadata": {},
   "outputs": [],
   "source": [
    "# Instanciate the model with default parameter of n_estimators = 100\n",
    "rfc_100 = RandomForestClassifier(n_estimators=100, random_state=0)\n",
    "\n",
    "# fit the model\n",
    "rfc_100.fit(X_train_sc, y_train)\n",
    "\n",
    "# Train the model on the scaled Training data\n",
    "cv_results_100 = cross_validate(rfc_100, X_train_sc, y_train, cv=5, scoring=['precision'])\n"
   ]
  },
  {
   "cell_type": "code",
   "execution_count": 33,
   "metadata": {},
   "outputs": [
    {
     "data": {
      "text/plain": [
       "0.8056133711026071"
      ]
     },
     "execution_count": 33,
     "metadata": {},
     "output_type": "execute_result"
    }
   ],
   "source": [
    "rfc_score_100 = cv_results_100['test_precision'].mean()\n",
    "rfc_score_100"
   ]
  },
  {
   "cell_type": "code",
   "execution_count": 34,
   "metadata": {},
   "outputs": [],
   "source": [
    "# Predict the Test set results\n",
    "y_pred_100 = rfc_100.predict(X_test_sc)"
   ]
  },
  {
   "cell_type": "code",
   "execution_count": null,
   "metadata": {},
   "outputs": [],
   "source": [
    "from sklearn.model_selection import GridSearchCV\n",
    "rfc_gs = RandomForestClassifier()\n",
    "\n",
    "# n_estimators\n",
    "n_estimators = [10, 25, 50, 100, 150]\n",
    "\n",
    "# max_features\n",
    "max_features = ['sqrt', 'log2', None]\n",
    "\n",
    "# max_depth\n",
    "max_depth = [3, 6, 9] \n",
    "\n",
    "# max_leaf_nodes\n",
    "max_leaf_nodes = [3, 6, 9]\n",
    "\n",
    "param_grid = dict(n_estimators=n_estimators, max_features=max_features, max_depth=max_depth, max_leaf_nodes=max_leaf_nodes) \n",
    "\n",
    "# defining parameter range\n",
    "grid = GridSearchCV(rfc_gs, param_grid, cv=5, scoring='precision', verbose=1, n_jobs=-1)\n",
    "  \n",
    "# fitting the model for grid search\n",
    "grid_search=grid.fit(X_train_sc, y_train)"
   ]
  },
  {
   "cell_type": "code",
   "execution_count": 39,
   "metadata": {},
   "outputs": [
    {
     "name": "stdout",
     "output_type": "stream",
     "text": [
      "{'max_depth': 6, 'max_features': 'sqrt', 'max_leaf_nodes': 9, 'n_estimators': 10}\n"
     ]
    }
   ],
   "source": [
    "print(grid_search.best_params_)"
   ]
  },
  {
   "cell_type": "code",
   "execution_count": 40,
   "metadata": {},
   "outputs": [
    {
     "name": "stdout",
     "output_type": "stream",
     "text": [
      "0.8\n"
     ]
    }
   ],
   "source": [
    "print(grid.best_score_)"
   ]
  }
 ],
 "metadata": {
  "kernelspec": {
   "display_name": "flight-predictor",
   "language": "python",
   "name": "python3"
  },
  "language_info": {
   "codemirror_mode": {
    "name": "ipython",
    "version": 3
   },
   "file_extension": ".py",
   "mimetype": "text/x-python",
   "name": "python",
   "nbconvert_exporter": "python",
   "pygments_lexer": "ipython3",
   "version": "3.10.6"
  },
  "orig_nbformat": 4
 },
 "nbformat": 4,
 "nbformat_minor": 2
}
