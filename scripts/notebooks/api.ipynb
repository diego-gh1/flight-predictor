{
 "cells": [
  {
   "cell_type": "code",
   "execution_count": null,
   "metadata": {},
   "outputs": [],
   "source": [
    "from sklearn.linear_model import LogisticRegression\n",
    "from sklearn.model_selection import train_test_split\n",
    "import pandas as pd\n",
    "from sklearn.model_selection import cross_validate\n",
    "import numpy as np\n",
    "from sklearn.model_selection import GridSearchCV\n",
    "import datetime\n",
    "from sklearn.preprocessing import OneHotEncoder\n",
    "import random\n",
    "from sklearn.preprocessing import StandardScaler\n",
    "from sklearn.metrics import confusion_matrix\n",
    "from sklearn.metrics import accuracy_score, precision_score, recall_score, f1_score\n",
    "from fastapi import FastAPI\n",
    "import pickle\n"
   ]
  },
  {
   "cell_type": "code",
   "execution_count": null,
   "metadata": {},
   "outputs": [],
   "source": [
    "app = FastAPI()\n",
    "\n",
    "# Define a root `/` endpoint\n",
    "@app.get('/')\n",
    "def index():\n",
    "    return {'ok': True}\n",
    "\n",
    "def load_model ():\n",
    "    #Cargar el modelo a un .pickle\n",
    "    \n",
    "    #Cargar el modelo acá usando joblib\n",
    "\n",
    "@app.get('/predict')\n",
    "def predict(params):\n",
    "    model=load_model()\n",
    "    \n",
    "    #llevar el input a un dataframe\n",
    "    \n",
    "    #Preprocesamiento del dataframe usando el mismo preprocesamiento (Acoplar pipeline en preproc)\n",
    "      \n",
    "    preds=model.predict(params)\n",
    "    \n",
    "    return {'status':'OK', 'predictions':preds}\n",
    "\n",
    "    \n",
    "    \n"
   ]
  },
  {
   "cell_type": "code",
   "execution_count": null,
   "metadata": {},
   "outputs": [],
   "source": []
  }
 ],
 "metadata": {
  "language_info": {
   "name": "python"
  },
  "orig_nbformat": 4
 },
 "nbformat": 4,
 "nbformat_minor": 2
}
