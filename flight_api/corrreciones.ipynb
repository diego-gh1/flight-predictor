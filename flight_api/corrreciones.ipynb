{
 "cells": [
  {
   "cell_type": "code",
   "execution_count": 2,
   "metadata": {},
   "outputs": [],
   "source": [
    "import pickle\n",
    "from fastapi import FastAPI\n",
    "import json\n",
    "from geopy.distance import geodesic\n",
    "import pandas as pd\n",
    "\n",
    "\n",
    "\n",
    "with open('archivo.txt', 'r') as archivo:\n",
    "    diccionario_aeropuertos = json.load(archivo)\n",
    "\n",
    "app = FastAPI()\n",
    "\n",
    "# Define a root `/` endpoint\n",
    "@app.get('/')\n",
    "def index():\n",
    "    return {'ok': True}\n",
    "\n",
    "def load_model ():\n",
    "    model_pipeline = pickle.load(open(\"pipeline_XGBoost_1.pkl\",\"rb\"))\n",
    "    return model_pipeline\n",
    "\n",
    "@app.get('/predict')\n",
    "\n",
    "def predict(aeropuerto_origen,aeropuerto_destino,dia,mes,dia_de_semana,scheduled_arrival,aerolinea, scheduled_time):\n",
    "\n",
    "    lat_origin = diccionario_aeropuertos[aeropuerto_origen][0]\n",
    "    long_origin = diccionario_aeropuertos[aeropuerto_origen][1]\n",
    "    lat_dest = diccionario_aeropuertos[aeropuerto_destino][0]\n",
    "    long_dest = diccionario_aeropuertos[aeropuerto_destino][1]\n",
    "\n",
    "    distancia_km = geodesic((lat_origin, long_origin), (lat_dest, long_dest)).kilometers\n",
    "\n",
    "    # Convertir la distancia a millas\n",
    "    distancia_millas = distancia_km * 0.621371\n",
    "\n",
    "    print(\"Distancia entre los puntos:\", distancia_millas, \"millas\")\n",
    "\n",
    "    columns_name= ['MONTH', 'DAY', 'DAY_OF_WEEK', 'SCHEDULED_TIME', 'DISTANCE',\n",
    "       'SCHEDULED_ARRIVAL', 'ORIGIN_LONGITUDE', 'ORIGIN_LATITUDE',\n",
    "       'DESTINATION_LONGITUDE', 'DESTINATION_LATITUDE','AIRLINE']\n",
    "\n",
    "    params_columnas = [mes,dia,dia_de_semana, scheduled_time,distancia_millas,scheduled_arrival,long_origin,lat_origin,long_dest,lat_dest,aerolinea]\n",
    "\n",
    "    df= pd.DataFrame([params_columnas],columns=columns_name)\n",
    "\n",
    "    model=load_model()\n",
    "    print(type(model))\n",
    "\n",
    "    preds=model.predict(df)\n",
    "\n",
    "    probabilidad = model.predict_proba(df)[0]\n",
    "\n",
    "    print (preds)\n",
    "\n",
    "    return{'status':'OK', 'predictions':str(probabilidad)}"
   ]
  },
  {
   "cell_type": "code",
   "execution_count": 3,
   "metadata": {},
   "outputs": [
    {
     "ename": "NameError",
     "evalue": "name 'preds' is not defined",
     "output_type": "error",
     "traceback": [
      "\u001b[0;31m---------------------------------------------------------------------------\u001b[0m",
      "\u001b[0;31mNameError\u001b[0m                                 Traceback (most recent call last)",
      "Cell \u001b[0;32mIn[3], line 1\u001b[0m\n\u001b[0;32m----> 1\u001b[0m preds\n",
      "\u001b[0;31mNameError\u001b[0m: name 'preds' is not defined"
     ]
    }
   ],
   "source": [
    "probabilidad"
   ]
  },
  {
   "cell_type": "code",
   "execution_count": null,
   "metadata": {},
   "outputs": [],
   "source": []
  }
 ],
 "metadata": {
  "kernelspec": {
   "display_name": "flight-predictor",
   "language": "python",
   "name": "python3"
  },
  "language_info": {
   "codemirror_mode": {
    "name": "ipython",
    "version": 3
   },
   "file_extension": ".py",
   "mimetype": "text/x-python",
   "name": "python",
   "nbconvert_exporter": "python",
   "pygments_lexer": "ipython3",
   "version": "3.10.6"
  },
  "orig_nbformat": 4
 },
 "nbformat": 4,
 "nbformat_minor": 2
}
